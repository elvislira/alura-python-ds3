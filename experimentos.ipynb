{
 "cells": [
  {
   "cell_type": "markdown",
   "metadata": {},
   "source": [
    "# Experimentações"
   ]
  },
  {
   "cell_type": "markdown",
   "metadata": {},
   "source": [
    "* Importando o Numpy"
   ]
  },
  {
   "cell_type": "code",
   "execution_count": 1,
   "metadata": {},
   "outputs": [],
   "source": [
    "import numpy as np"
   ]
  },
  {
   "cell_type": "markdown",
   "metadata": {},
   "source": [
    "* Crie um array, utilizando a função np.arange(), que liste todos os anos nos quais aconteceram ou estão previstos de acontecer a Copa do Mundo, considerando o intervalo fechado dos anos de 2000 a 2102.\n",
    "\n",
    "    >**Dica**: A primeira Copa do Mundo desse período aconteceu no ano de 2002."
   ]
  },
  {
   "cell_type": "code",
   "execution_count": 2,
   "metadata": {},
   "outputs": [
    {
     "data": {
      "text/plain": [
       "array([2002, 2006, 2010, 2014, 2018, 2022, 2026, 2030, 2034, 2038, 2042,\n",
       "       2046, 2050, 2054, 2058, 2062, 2066, 2070, 2074, 2078, 2082, 2086,\n",
       "       2090, 2094, 2098, 2102])"
      ]
     },
     "execution_count": 2,
     "metadata": {},
     "output_type": "execute_result"
    }
   ],
   "source": [
    "anos_de_copa = np.arange(2002, 2103, 4)\n",
    "anos_de_copa"
   ]
  },
  {
   "cell_type": "markdown",
   "metadata": {},
   "source": [
    "* Comparando o tempo de execução para elevar cada elemento de uma lista ao quadrado versus a mesma operação usando um array Numpy:"
   ]
  },
  {
   "cell_type": "code",
   "execution_count": 6,
   "metadata": {},
   "outputs": [
    {
     "name": "stdout",
     "output_type": "stream",
     "text": [
      "Tempo para Lista: 0.120\n",
      "Tempo para Array: 0.003\n",
      "O Array foi 45.04 vezes mais rápido que a Lista.\n"
     ]
    }
   ],
   "source": [
    "import time\n",
    "\n",
    "lista = list(range(1000000))\n",
    "array = np.array(lista)\n",
    "\n",
    "# Lista com 1000000 de números\n",
    "start_time = time.time()\n",
    "lista_quadrado = [i**2 for i in lista]\n",
    "end_time = time.time()\n",
    "tempo_lista = end_time - start_time\n",
    "\n",
    "# Array com 1000000 de números\n",
    "start_time = time.time()\n",
    "array_quadrado = array ** 2\n",
    "end_time = time.time()\n",
    "tempo_array = end_time - start_time\n",
    "\n",
    "# Proporção\n",
    "proporcao = tempo_lista / tempo_array\n",
    "\n",
    "# Resultado\n",
    "print(f'Tempo para Lista: {tempo_lista:.3f}')\n",
    "print(f'Tempo para Array: {tempo_array:.3f}')\n",
    "print(f'O Array foi {proporcao:.2f} vezes mais rápido que a Lista.')"
   ]
  },
  {
   "cell_type": "markdown",
   "metadata": {},
   "source": [
    "* Você começou os seus estudos com a biblioteca Numpy e resolveu utilizá-la para substituir um cálculo que estava sendo realizado com listas do Python. A lista que você tem em mãos é igual a:\n",
    "\n",
    "    >x = [0,1,2,3,4,5,6,7,8,9,10]\n",
    "\n",
    "    Essa lista estava sendo utilizada para calcular os diversos valores de y na equação y = x + 3 / 2. Como ficaria o código em Numpy para substituir o seguinte trecho de código?"
   ]
  },
  {
   "cell_type": "code",
   "execution_count": 2,
   "metadata": {},
   "outputs": [
    {
     "name": "stdout",
     "output_type": "stream",
     "text": [
      "[1.5, 2.5, 3.5, 4.5, 5.5, 6.5, 7.5, 8.5, 9.5, 10.5, 11.5]\n"
     ]
    }
   ],
   "source": [
    "x = [0,1,2,3,4,5,6,7,8,9,10]\n",
    "y = []\n",
    "\n",
    "for i in x:\n",
    "    y.append(i + 3 / 2)\n",
    "\n",
    "print(y)"
   ]
  },
  {
   "cell_type": "markdown",
   "metadata": {},
   "source": [
    "* Usando Numpy"
   ]
  },
  {
   "cell_type": "code",
   "execution_count": 4,
   "metadata": {},
   "outputs": [
    {
     "name": "stdout",
     "output_type": "stream",
     "text": [
      "[ 1.5  2.5  3.5  4.5  5.5  6.5  7.5  8.5  9.5 10.5 11.5]\n"
     ]
    }
   ],
   "source": [
    "import numpy as np\n",
    "\n",
    "x = np.array([0,1,2,3,4,5,6,7,8,9,10])\n",
    "\n",
    "y = x + 3 / 2\n",
    "\n",
    "print(y)"
   ]
  }
 ],
 "metadata": {
  "kernelspec": {
   "display_name": "venv",
   "language": "python",
   "name": "python3"
  },
  "language_info": {
   "codemirror_mode": {
    "name": "ipython",
    "version": 3
   },
   "file_extension": ".py",
   "mimetype": "text/x-python",
   "name": "python",
   "nbconvert_exporter": "python",
   "pygments_lexer": "ipython3",
   "version": "3.12.4"
  }
 },
 "nbformat": 4,
 "nbformat_minor": 2
}
